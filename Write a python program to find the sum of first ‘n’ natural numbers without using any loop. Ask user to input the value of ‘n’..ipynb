{
 "cells": [
  {
   "cell_type": "code",
   "execution_count": 2,
   "metadata": {},
   "outputs": [
    {
     "name": "stdout",
     "output_type": "stream",
     "text": [
      "Enter number of natural number to find sum: 10\n",
      "Sum of first 10 number is 55\n"
     ]
    }
   ],
   "source": [
    "n = int(input('Enter number of natural number to find sum: '))\n",
    "\n",
    "if n>0:\n",
    "    sum = n*(n+1)/2\n",
    "    print(\"Sum of first {} number is {}\".format(n,int(sum)))\n",
    "else:\n",
    "    print(\"enter positive number\")"
   ]
  },
  {
   "cell_type": "code",
   "execution_count": null,
   "metadata": {},
   "outputs": [],
   "source": []
  }
 ],
 "metadata": {
  "kernelspec": {
   "display_name": "Python 3",
   "language": "python",
   "name": "python3"
  },
  "language_info": {
   "codemirror_mode": {
    "name": "ipython",
    "version": 3
   },
   "file_extension": ".py",
   "mimetype": "text/x-python",
   "name": "python",
   "nbconvert_exporter": "python",
   "pygments_lexer": "ipython3",
   "version": "3.7.3"
  }
 },
 "nbformat": 4,
 "nbformat_minor": 2
}
