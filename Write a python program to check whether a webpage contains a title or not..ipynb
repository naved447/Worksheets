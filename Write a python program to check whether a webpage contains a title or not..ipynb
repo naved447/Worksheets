{
 "cells": [
  {
   "cell_type": "code",
   "execution_count": 66,
   "metadata": {},
   "outputs": [
    {
     "name": "stdout",
     "output_type": "stream",
     "text": [
      "Enter Url to check whether web page has title or not: https://www.facebook.com/\n",
      "Yes, this WebPage has Title and it is :  Facebook - लॉग इन या साइन अप करें\n"
     ]
    }
   ],
   "source": [
    "from urllib.request import urlopen\n",
    "\n",
    "from bs4 import BeautifulSoup\n",
    "\n",
    "#url = \"http://www.balajilegal.com\"\n",
    "url  = input(\"Enter Url to check whether web page has title or not: \")\n",
    "page = urlopen(url)\n",
    "soup = BeautifulSoup(page.read(), \"lxml\")\n",
    "page_title = soup.title.string\n",
    "if page_title:\n",
    "    print(\"Yes, this WebPage has Title and it is : \",page_title)\n",
    "else:\n",
    "    print(\"there is no title in this webpage\")"
   ]
  },
  {
   "cell_type": "code",
   "execution_count": null,
   "metadata": {},
   "outputs": [],
   "source": []
  }
 ],
 "metadata": {
  "kernelspec": {
   "display_name": "Python 3",
   "language": "python",
   "name": "python3"
  },
  "language_info": {
   "codemirror_mode": {
    "name": "ipython",
    "version": 3
   },
   "file_extension": ".py",
   "mimetype": "text/x-python",
   "name": "python",
   "nbconvert_exporter": "python",
   "pygments_lexer": "ipython3",
   "version": "3.7.3"
  }
 },
 "nbformat": 4,
 "nbformat_minor": 2
}
